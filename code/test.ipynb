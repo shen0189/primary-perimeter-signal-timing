{
 "cells": [
  {
   "cell_type": "code",
   "execution_count": 29,
   "metadata": {},
   "outputs": [],
   "source": [
    "import pandas as pd\n",
    "from utils.utilize import config"
   ]
  },
  {
   "cell_type": "code",
   "execution_count": 37,
   "metadata": {},
   "outputs": [
    {
     "name": "stdout",
     "output_type": "stream",
     "text": [
      "0     1004\n",
      "1     1010\n",
      "2     1013\n",
      "3     1016\n",
      "4     1019\n",
      "      ... \n",
      "81    1140\n",
      "82    1144\n",
      "83    1147\n",
      "84    1150\n",
      "85    1159\n",
      "Name: edge_id, Length: 86, dtype: int64\n"
     ]
    }
   ],
   "source": [
    "\n",
    "file = \"edge_bloom.csv\"\n",
    "# file = \"network\\GridBuffer\\EdgeMesurements.csv\"\n",
    "\n",
    "## read csv\n",
    "# df = pd.read_csv(file, sep=';')\n",
    "df = pd.read_csv(file, sep=';', usecols=['edge_id','edge_PN'])\n",
    "print(df['edge_id'])"
   ]
  },
  {
   "cell_type": "code",
   "execution_count": 39,
   "metadata": {},
   "outputs": [
    {
     "name": "stdout",
     "output_type": "stream",
     "text": [
      "8     1027\n",
      "9     1028\n",
      "10    1030\n",
      "11    1031\n",
      "13    1034\n",
      "14    1035\n",
      "15    1036\n",
      "17    1038\n",
      "18    1039\n",
      "19    1040\n",
      "21    1042\n",
      "22    1043\n",
      "23    1044\n",
      "25    1046\n",
      "27    1048\n",
      "30    1055\n",
      "32    1057\n",
      "33    1058\n",
      "34    1060\n",
      "35    1061\n",
      "36    1062\n",
      "37    1063\n",
      "38    1064\n",
      "39    1065\n",
      "40    1066\n",
      "41    1067\n",
      "42    1068\n",
      "43    1069\n",
      "44    1071\n",
      "45    1072\n",
      "46    1073\n",
      "47    1075\n",
      "48    1076\n",
      "50    1078\n",
      "52    1085\n",
      "53    1088\n",
      "54    1089\n",
      "55    1092\n",
      "56    1093\n",
      "57    1096\n",
      "58    1105\n",
      "59    1108\n",
      "61    1115\n",
      "63    1117\n",
      "65    1119\n",
      "66    1120\n",
      "67    1121\n",
      "69    1123\n",
      "70    1124\n",
      "71    1125\n",
      "73    1128\n",
      "74    1129\n",
      "75    1132\n",
      "76    1133\n",
      "77    1135\n",
      "78    1136\n",
      "Name: edge_id, dtype: int64\n"
     ]
    }
   ],
   "source": [
    "print(df[df['edge_PN'] == 1]['edge_id'])\n"
   ]
  },
  {
   "cell_type": "code",
   "execution_count": 36,
   "metadata": {},
   "outputs": [],
   "source": [
    "df.to_csv('edge_bloom.csv',sep=';')"
   ]
  },
  {
   "cell_type": "code",
   "execution_count": null,
   "metadata": {},
   "outputs": [],
   "source": [
    "df['lane_id'].fillna(-1, inplace=True)\n",
    "df['lane_queueing_time'].fillna(0, inplace=True)\n",
    "print(df.head(10))\n"
   ]
  },
  {
   "cell_type": "code",
   "execution_count": null,
   "metadata": {},
   "outputs": [],
   "source": [
    "df_time = df.groupby('data_timestep')['lane_queueing_time'].sum()\n",
    "print(df_time)"
   ]
  },
  {
   "cell_type": "code",
   "execution_count": null,
   "metadata": {},
   "outputs": [],
   "source": [
    "df_time.to_numpy()\n",
    "print(df_time)"
   ]
  },
  {
   "cell_type": "code",
   "execution_count": null,
   "metadata": {},
   "outputs": [],
   "source": [
    "lane_delay={}\n",
    "for lane_id, data in df.groupby('lane_id'):\n",
    "    if lane_id!= -1:\n",
    "        print(lane_id)\n",
    "        lane_delay[lane_id] = data\n",
    "        # lane_delay\n",
    "\n"
   ]
  }
 ],
 "metadata": {
  "interpreter": {
   "hash": "d9c984302d00aa9210f362a3fbca3b56548ea0bba570899799ac1a4431973ded"
  },
  "kernelspec": {
   "display_name": "Python 3.6.13 ('tf18')",
   "language": "python",
   "name": "python3"
  },
  "language_info": {
   "codemirror_mode": {
    "name": "ipython",
    "version": 3
   },
   "file_extension": ".py",
   "mimetype": "text/x-python",
   "name": "python",
   "nbconvert_exporter": "python",
   "pygments_lexer": "ipython3",
   "version": "3.6.13"
  },
  "orig_nbformat": 4
 },
 "nbformat": 4,
 "nbformat_minor": 2
}
